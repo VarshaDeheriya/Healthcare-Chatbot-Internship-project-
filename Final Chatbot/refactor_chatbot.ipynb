{
 "cells": [
  {
   "cell_type": "code",
   "execution_count": null,
   "id": "0015a443",
   "metadata": {},
   "outputs": [],
   "source": [
    "import pandas as pd\n",
    "import matplotlib.pyplot as plt\n",
    "import seaborn as sns\n",
    "import numpy as np\n",
    "import re\n",
    "import os\n",
    "from sklearn.preprocessing import LabelEncoder\n",
    "from scipy.special import inv_boxcox\n",
    "from sklearn.preprocessing import StandardScaler, MinMaxScaler\n",
    "\n",
    "import warnings\n",
    "warnings.filterwarnings('ignore')\n",
    "\n",
    "from IPython.core.interactiveshell import InteractiveShell\n",
    "InteractiveShell.ast_node_interactivity = 'all'\n",
    "\n",
    "# for HD visualizations\n",
    "%matplotlib inline\n",
    "%config InlineBackend.figure_format = 'retina'\n",
    "sns.set_style('whitegrid')\n",
    "plt.style.use('ggplot')"
   ]
  },
  {
   "cell_type": "code",
   "execution_count": null,
   "id": "611aef8d",
   "metadata": {},
   "outputs": [],
   "source": [
    "# df = pd.read_csv(r\".\\raw_data\\dataset.csv\")\n",
    "# Alternative Way: \n",
    "# always use dynamic path (using OS) as we have to run our applications on server \n",
    "data_dir = 'raw_data'\n",
    "filename = 'dataset.csv'\n",
    "file_path = os.path.join(data_dir, filename)\n",
    "df = pd.read_csv(file_path)\n"
   ]
  },
  {
   "cell_type": "code",
   "execution_count": null,
   "id": "db411449",
   "metadata": {},
   "outputs": [],
   "source": [
    "df.head()"
   ]
  },
  {
   "cell_type": "code",
   "execution_count": null,
   "id": "c47d123e",
   "metadata": {},
   "outputs": [],
   "source": [
    "df.shape"
   ]
  },
  {
   "cell_type": "code",
   "execution_count": null,
   "id": "69e50f2c",
   "metadata": {},
   "outputs": [],
   "source": [
    "df.info()"
   ]
  },
  {
   "cell_type": "code",
   "execution_count": null,
   "id": "481e6fd5",
   "metadata": {},
   "outputs": [],
   "source": [
    "df.describe()"
   ]
  },
  {
   "cell_type": "code",
   "execution_count": null,
   "id": "1d570dbc",
   "metadata": {},
   "outputs": [],
   "source": [
    "# df[\"Disease\"] = df[\"Disease\"].map({'Drug Reaction':0, 'Malaria':1, 'Allergy':2, 'Hypothyroidism':3,\n",
    "#                   'Psoriasis':4, 'GERD':5, 'Chronic cholestasis':6, 'hepatitis A':7,\n",
    "#                   'Osteoarthristis':8, '(vertigo) Paroymsal  Positional Vertigo':9,\n",
    "#                   'Hypoglycemia':10, 'Acne':11, 'Diabetes':12, 'Impetigo':13, 'Hypertension':14,\n",
    "#                   'Peptic ulcer diseae':15, 'Dimorphic hemorrhoids(piles)':16,\n",
    "#                   'Common Cold':17, 'Chicken pox':18, 'Cervical spondylosis':19,\n",
    "#                   'Hyperthyroidism':20, 'Urinary tract infection':21, 'Varicose veins':22,\n",
    "#                   'AIDS':23, 'Paralysis (brain hemorrhage)':24, 'Typhoid':25, 'Hepatitis B':26,\n",
    "#                   'Fungal infection':27, 'Hepatitis C':28, 'Migraine':29, 'Bronchial Asthma':30,\n",
    "#                   'Alcoholic hepatitis':31, 'Jaundice':32, 'Hepatitis E':33, 'Dengue':34,\n",
    "#                   'Hepatitis D':35, 'Heart attack':36, 'Pneumonia':37, 'Arthritis':38,\n",
    "#                   'Gastroenteritis':39, 'Tuberculosis':40})"
   ]
  },
  {
   "cell_type": "code",
   "execution_count": null,
   "id": "c51fc5dd",
   "metadata": {},
   "outputs": [],
   "source": [
    "df.isna().sum()"
   ]
  },
  {
   "cell_type": "code",
   "execution_count": null,
   "id": "a294403f",
   "metadata": {},
   "outputs": [],
   "source": [
    "# if disease contain null value drop them\n",
    "df1 = df[df['Disease'].isnull()]\n",
    "print(df1.shape)\n",
    "df.drop(axis=0,index=df1.index,inplace=True)"
   ]
  },
  {
   "cell_type": "code",
   "execution_count": null,
   "id": "42d7d41c",
   "metadata": {},
   "outputs": [],
   "source": [
    "# df[\"Disease\"] = df[\"Disease\"].astype(int)"
   ]
  },
  {
   "cell_type": "code",
   "execution_count": null,
   "id": "841b088a",
   "metadata": {},
   "outputs": [],
   "source": [
    "# why this line??\n",
    "df.reset_index(drop = \"first\", inplace = True )"
   ]
  },
  {
   "cell_type": "code",
   "execution_count": null,
   "id": "87461ec3",
   "metadata": {},
   "outputs": [],
   "source": [
    "df.head()"
   ]
  },
  {
   "cell_type": "code",
   "execution_count": null,
   "id": "0e281a43",
   "metadata": {},
   "outputs": [],
   "source": [
    "# treating null values\n",
    "df.isna().sum()"
   ]
  },
  {
   "cell_type": "code",
   "execution_count": null,
   "id": "ae1c4c2b",
   "metadata": {},
   "outputs": [],
   "source": [
    "df.replace(np.nan,'',regex=True, inplace = True)  "
   ]
  },
  {
   "cell_type": "code",
   "execution_count": null,
   "id": "c9299570",
   "metadata": {},
   "outputs": [],
   "source": [
    "df.isna().sum()"
   ]
  },
  {
   "cell_type": "code",
   "execution_count": null,
   "id": "128909b9",
   "metadata": {},
   "outputs": [],
   "source": [
    "# feature engineering combining all Symptoms\n",
    "# df[\"Symptoms\"] = df[[\"Symptom_1\", \"Symptom_2\",\"Symptom_3\", \"Symptom_4\",\"Symptom_5\", \"Symptom_6\", \"Symptom_7\",\"Symptom_8\",\n",
    "#                    \"Symptom_9\", \"Symptom_10\", \"Symptom_11\", \"Symptom_12\", \"Symptom_13\", \"Symptom_14\",\n",
    "#                    \"Symptom_15\",\"Symptom_16\", \"Symptom_17\"]].apply(\",\".join, axis=1)"
   ]
  },
  {
   "cell_type": "code",
   "execution_count": null,
   "id": "32657442",
   "metadata": {},
   "outputs": [],
   "source": [
    "# better way of combine all\n",
    "df[\"Symptoms\"] = df.iloc[:, 1:].astype(str).apply(lambda x: \",\".join(x), axis=1)"
   ]
  },
  {
   "cell_type": "code",
   "execution_count": null,
   "id": "96fa155a",
   "metadata": {},
   "outputs": [],
   "source": [
    "df"
   ]
  },
  {
   "cell_type": "code",
   "execution_count": null,
   "id": "b355468b",
   "metadata": {},
   "outputs": [],
   "source": []
  },
  {
   "cell_type": "code",
   "execution_count": null,
   "id": "cf433449",
   "metadata": {},
   "outputs": [],
   "source": [
    "#to get all cols list \n",
    "# column_names = df.columns.tolist()\n",
    "# column_names"
   ]
  },
  {
   "cell_type": "code",
   "execution_count": null,
   "id": "ad9ef9a4",
   "metadata": {},
   "outputs": [],
   "source": [
    "# drop extra columns\n",
    "# df.drop([\"Symptom_1\",\"Symptom_2\",\"Symptom_3\", \"Symptom_4\",\"Symptom_5\", \"Symptom_6\", \"Symptom_7\",\"Symptom_8\",\n",
    "#                    \"Symptom_9\", \"Symptom_10\", \"Symptom_11\", \"Symptom_12\", \"Symptom_13\", \"Symptom_14\",\n",
    "#                    \"Symptom_15\",\"Symptom_16\", \"Symptom_17\"], axis = 1, inplace = True)"
   ]
  },
  {
   "cell_type": "code",
   "execution_count": null,
   "id": "9fb8221d",
   "metadata": {},
   "outputs": [],
   "source": [
    "#better way to drop columns\n",
    "df = df.drop(df.columns[1:18], axis=1)\n"
   ]
  },
  {
   "cell_type": "code",
   "execution_count": null,
   "id": "408857d4",
   "metadata": {},
   "outputs": [],
   "source": [
    "df.head()"
   ]
  },
  {
   "cell_type": "code",
   "execution_count": null,
   "id": "a46f1280",
   "metadata": {},
   "outputs": [],
   "source": [
    "df.shape"
   ]
  },
  {
   "cell_type": "code",
   "execution_count": null,
   "id": "cb7f28c6",
   "metadata": {},
   "outputs": [],
   "source": [
    "df.isna().sum()"
   ]
  },
  {
   "cell_type": "markdown",
   "id": "d80fca69",
   "metadata": {},
   "source": [
    "### --------------------------------------------------------------------------------------------------------------------------"
   ]
  },
  {
   "cell_type": "markdown",
   "id": "239699d6",
   "metadata": {},
   "source": [
    "# symptoms_description"
   ]
  },
  {
   "cell_type": "code",
   "execution_count": null,
   "id": "d438bbe4",
   "metadata": {},
   "outputs": [],
   "source": [
    "#loading symptom_Description csv file\n",
    "# symptoms_description = pd.read_csv(r\".\\raw_data\\symptom_Description.csv\")\n",
    "\n",
    "#alternative way\n",
    "# data_dir = 'raw_data'\n",
    "filename = 'symptom_Description.csv'\n",
    "file_path = os.path.join(data_dir, filename)\n",
    "symptoms_description = pd.read_csv(file_path)\n"
   ]
  },
  {
   "cell_type": "code",
   "execution_count": null,
   "id": "316a9531",
   "metadata": {},
   "outputs": [],
   "source": [
    "symptoms_description.head()"
   ]
  },
  {
   "cell_type": "code",
   "execution_count": null,
   "id": "265ee1ae",
   "metadata": {},
   "outputs": [],
   "source": [
    "symptoms_description.shape"
   ]
  },
  {
   "cell_type": "markdown",
   "id": "49ad0e09",
   "metadata": {},
   "source": [
    "## Symptom_Severity"
   ]
  },
  {
   "cell_type": "code",
   "execution_count": null,
   "id": "18a7ec6d",
   "metadata": {},
   "outputs": [],
   "source": [
    "# loading Symptom-severity csv file\n",
    "Symptom_severity = pd.read_csv(r\".\\raw_data\\Symptom_Severity.csv\")\n",
    "\n",
    "#alternative way\n",
    "# data_dir = 'raw_data'\n",
    "filename = 'Symptom_Severity.csv'\n",
    "file_path = os.path.join(data_dir, filename)\n",
    "Symptom_severity = pd.read_csv(file_path)"
   ]
  },
  {
   "cell_type": "code",
   "execution_count": null,
   "id": "899a065c",
   "metadata": {},
   "outputs": [],
   "source": [
    "Symptom_severity.head()"
   ]
  },
  {
   "cell_type": "code",
   "execution_count": null,
   "id": "44501a0e",
   "metadata": {},
   "outputs": [],
   "source": [
    "Symptom_severity.shape"
   ]
  },
  {
   "cell_type": "code",
   "execution_count": null,
   "id": "9b21b598",
   "metadata": {},
   "outputs": [],
   "source": [
    "Symptom_severity[\"Symptom\"].nunique()"
   ]
  },
  {
   "cell_type": "code",
   "execution_count": null,
   "id": "b9ab85ef",
   "metadata": {},
   "outputs": [],
   "source": [
    "Symptom_severity[\"weight\"].unique()"
   ]
  },
  {
   "cell_type": "code",
   "execution_count": null,
   "id": "8b5cc61c",
   "metadata": {},
   "outputs": [],
   "source": [
    "Symptom_severity[\"Symptoms\"] = Symptom_severity[\"Symptom\"]"
   ]
  },
  {
   "cell_type": "code",
   "execution_count": null,
   "id": "acd52a35",
   "metadata": {},
   "outputs": [],
   "source": [
    "Symptom_severity"
   ]
  },
  {
   "cell_type": "markdown",
   "id": "d881fbba",
   "metadata": {},
   "source": [
    "## Symptoms_Precautions"
   ]
  },
  {
   "cell_type": "code",
   "execution_count": null,
   "id": "9f9296e1",
   "metadata": {},
   "outputs": [],
   "source": [
    "# loading symtoms_precautions csv file\n",
    "# symptoms_precautions = pd.read_csv(r\".\\raw_data\\Symptom_Precaution.csv\")\n",
    "\n",
    "#alternative way\n",
    "data_dir = 'raw_data'\n",
    "filename = 'Symptom_Precaution.csv'\n",
    "file_path = os.path.join(data_dir, filename)\n",
    "symtoms_precautions = pd.read_csv(file_path)"
   ]
  },
  {
   "cell_type": "code",
   "execution_count": null,
   "id": "95a5d595",
   "metadata": {},
   "outputs": [],
   "source": [
    "symtoms_precautions.head()"
   ]
  },
  {
   "cell_type": "code",
   "execution_count": null,
   "id": "3b7ae88a",
   "metadata": {},
   "outputs": [],
   "source": [
    "symtoms_precautions.shape"
   ]
  },
  {
   "cell_type": "code",
   "execution_count": null,
   "id": "5e51b4e0",
   "metadata": {},
   "outputs": [],
   "source": [
    "symtoms_precautions.info()"
   ]
  },
  {
   "cell_type": "code",
   "execution_count": null,
   "id": "eccf28ab",
   "metadata": {},
   "outputs": [],
   "source": [
    "# treating null\n",
    "df.replace(np.nan,'',regex=True, inplace = True) "
   ]
  },
  {
   "cell_type": "markdown",
   "id": "6d347a68",
   "metadata": {},
   "source": [
    "## ------------------------------------------------\n",
    "## Merging symptoms_description And dataset"
   ]
  },
  {
   "cell_type": "code",
   "execution_count": null,
   "id": "f899f613",
   "metadata": {},
   "outputs": [],
   "source": [
    "data = pd.merge(symptoms_description,df, how = \"inner\", on = \"Disease\")"
   ]
  },
  {
   "cell_type": "code",
   "execution_count": null,
   "id": "608a5376",
   "metadata": {},
   "outputs": [],
   "source": [
    "# data = pd.merge(Symptom_severity,df, how = \"inner\", on = \"Symptoms\")"
   ]
  },
  {
   "cell_type": "code",
   "execution_count": null,
   "id": "100076b9",
   "metadata": {},
   "outputs": [],
   "source": [
    "data.head()"
   ]
  },
  {
   "cell_type": "code",
   "execution_count": null,
   "id": "c5cc815c",
   "metadata": {},
   "outputs": [],
   "source": [
    "data.shape"
   ]
  },
  {
   "cell_type": "code",
   "execution_count": null,
   "id": "ce6a1a3f",
   "metadata": {},
   "outputs": [],
   "source": [
    "data.info()"
   ]
  },
  {
   "cell_type": "code",
   "execution_count": null,
   "id": "6cb63f2e",
   "metadata": {},
   "outputs": [],
   "source": [
    "# we dont requred all this 3 step as there is no duplicates\n",
    "data.columns[data.columns.duplicated()]"
   ]
  },
  {
   "cell_type": "code",
   "execution_count": null,
   "id": "8dc2c990",
   "metadata": {},
   "outputs": [],
   "source": [
    "data = data.loc[:, ~data.columns.duplicated()]"
   ]
  },
  {
   "cell_type": "code",
   "execution_count": null,
   "id": "7a7abaae",
   "metadata": {},
   "outputs": [],
   "source": [
    "data.shape"
   ]
  },
  {
   "cell_type": "code",
   "execution_count": null,
   "id": "a552f184",
   "metadata": {},
   "outputs": [],
   "source": [
    "data.head()"
   ]
  },
  {
   "cell_type": "code",
   "execution_count": null,
   "id": "7da163f8",
   "metadata": {},
   "outputs": [],
   "source": [
    "data[\"Disease\"].unique()"
   ]
  },
  {
   "cell_type": "code",
   "execution_count": null,
   "id": "fc1998e9",
   "metadata": {},
   "outputs": [],
   "source": [
    "# data[\"Disease\"] = data[\"Disease\"].map({'Drug Reaction':0, 'Malaria':1, 'Allergy':2, 'Hypothyroidism':3,\n",
    "#                   'Psoriasis':4, 'GERD':5, 'Chronic cholestasis':6, 'hepatitis A':7,\n",
    "#                   'Osteoarthristis':8, '(vertigo) Paroymsal  Positional Vertigo':9,\n",
    "#                   'Hypoglycemia':10, 'Acne':11, 'Diabetes':12, 'Impetigo':13, 'Hypertension':14,\n",
    "#                   'Peptic ulcer diseae':15, 'Dimorphic hemorrhoids(piles)':16,\n",
    "#                   'Common Cold':17, 'Chicken pox':18, 'Cervical spondylosis':19,\n",
    "#                   'Hyperthyroidism':20, 'Urinary tract infection':21, 'Varicose veins':22,\n",
    "#                   'AIDS':23, 'Paralysis (brain hemorrhage)':24, 'Typhoid':25, 'Hepatitis B':26,\n",
    "#                   'Fungal infection':27, 'Hepatitis C':28, 'Migraine':29, 'Bronchial Asthma':30,\n",
    "#                   'Alcoholic hepatitis':31, 'Jaundice':32, 'Hepatitis E':33, 'Dengue':34,\n",
    "#                   'Hepatitis D':35, 'Heart attack':36, 'Pneumonia':37, 'Arthritis':38,\n",
    "#                   'Gastroenteritis':39, 'Tuberculosis':40})"
   ]
  },
  {
   "cell_type": "code",
   "execution_count": null,
   "id": "88fee7be",
   "metadata": {},
   "outputs": [],
   "source": [
    "data.head()"
   ]
  },
  {
   "cell_type": "markdown",
   "id": "f30161c5",
   "metadata": {},
   "source": [
    "## --------------------------------------------------\n",
    "## saving data file"
   ]
  },
  {
   "cell_type": "code",
   "execution_count": null,
   "id": "3f42d3b7",
   "metadata": {},
   "outputs": [],
   "source": [
    "# data.to_csv(r\".\\processed_data\\dataset_final.csv\")\n",
    "#alternative way\n",
    "\n",
    "output_dir = \"processed_data\"\n",
    "processed_dataset_name=\"processed_dataset.csv\"\n",
    "if not os.path.exists(output_dir):\n",
    "    os.makedirs(output_dir)\n",
    "\n",
    "processed_file_path = os.path.join(output_dir, processed_dataset_name)\n",
    "data.to_csv(processed_file_path)"
   ]
  },
  {
   "cell_type": "code",
   "execution_count": null,
   "id": "eb634c88",
   "metadata": {},
   "outputs": [],
   "source": []
  },
  {
   "cell_type": "code",
   "execution_count": null,
   "id": "6d753763",
   "metadata": {},
   "outputs": [],
   "source": []
  },
  {
   "cell_type": "markdown",
   "id": "f4a78508",
   "metadata": {},
   "source": [
    "## -------------------------------------------------------------------------\n",
    "## Model Training "
   ]
  },
  {
   "cell_type": "code",
   "execution_count": null,
   "id": "fc40e8d6",
   "metadata": {},
   "outputs": [],
   "source": [
    "# df = pd.read_csv(r\".\\processed_data\\processed_dataset.csv\",index_col=[0])\n",
    "#alternative way\n",
    "data_dir = 'processed_data'\n",
    "filename = 'processed_dataset.csv'\n",
    "file_path = os.path.join(data_dir, filename)\n",
    "df = pd.read_csv(file_path ,index_col=[0])"
   ]
  },
  {
   "cell_type": "code",
   "execution_count": null,
   "id": "601aa3a2",
   "metadata": {},
   "outputs": [],
   "source": [
    "df.head()"
   ]
  },
  {
   "cell_type": "code",
   "execution_count": null,
   "id": "0a3d708a",
   "metadata": {},
   "outputs": [],
   "source": [
    "df.isna().sum()"
   ]
  },
  {
   "cell_type": "code",
   "execution_count": null,
   "id": "c7a316a3",
   "metadata": {},
   "outputs": [],
   "source": []
  },
  {
   "cell_type": "code",
   "execution_count": null,
   "id": "cfd43462",
   "metadata": {},
   "outputs": [],
   "source": [
    "import nltk\n",
    "from nltk.tokenize import word_tokenize\n",
    "from nltk.corpus import stopwords\n",
    "from nltk.stem.porter import PorterStemmer\n",
    "from nltk.stem import WordNetLemmatizer"
   ]
  },
  {
   "cell_type": "code",
   "execution_count": null,
   "id": "e9ceb1f6",
   "metadata": {},
   "outputs": [],
   "source": [
    "#NLTK provides various resources, such as word lists and corpora, which need to be downloaded separately.\n",
    "# nltk.download('stopwords')\n",
    "# nltk.download('wordnet')\n",
    "# nltk.download('omw-1.4')\n"
   ]
  },
  {
   "cell_type": "code",
   "execution_count": null,
   "id": "6785623d",
   "metadata": {},
   "outputs": [],
   "source": [
    "lemmatizer = WordNetLemmatizer()"
   ]
  },
  {
   "cell_type": "code",
   "execution_count": null,
   "id": "29200401",
   "metadata": {},
   "outputs": [],
   "source": [
    "def preprocess(ReviewText, flag):\n",
    "    # Removing special characters and digits\n",
    "    sentence = re.sub(\"[^a-zA-Z]\", \" \", ReviewText)\n",
    "\n",
    "    # Remove white space\n",
    "    pattern = re.compile(r'\\s+') \n",
    "    sentence = re.sub(pattern, ' ', ReviewText)\n",
    "    \n",
    "    # change sentence to lower case\n",
    "    sentence = sentence.lower()\n",
    "\n",
    "    # tokenize into words\n",
    "    tokens = sentence.split()\n",
    "    \n",
    "    # remove stop words                \n",
    "    clean_tokens = [t for t in tokens if t not in stopwords.words(\"english\")]\n",
    "    \n",
    "    # Stemming/Lemmatization\n",
    "    if(flag == 'stem'):\n",
    "        clean_tokens = [stemmer.stem(word) for word in clean_tokens]\n",
    "    else:\n",
    "        clean_tokens = [lemmatizer.lemmatize(word) for word in clean_tokens]\n",
    "    \n",
    "    return pd.Series([\" \".join(clean_tokens)])"
   ]
  },
  {
   "cell_type": "code",
   "execution_count": null,
   "id": "178efaea",
   "metadata": {},
   "outputs": [],
   "source": [
    "from tqdm import tqdm, tqdm_notebook\n",
    "tqdm.pandas()"
   ]
  },
  {
   "cell_type": "code",
   "execution_count": null,
   "id": "f9ed096e",
   "metadata": {},
   "outputs": [],
   "source": [
    "df['Symptoms'] = df['Symptoms'].progress_apply(lambda x: preprocess(x, 'lemma'))"
   ]
  },
  {
   "cell_type": "code",
   "execution_count": null,
   "id": "a670eec7",
   "metadata": {},
   "outputs": [],
   "source": [
    "df['Description'] = df['Description'].progress_apply(lambda x: preprocess(x, 'lemma'))"
   ]
  },
  {
   "cell_type": "code",
   "execution_count": null,
   "id": "e81231f8",
   "metadata": {},
   "outputs": [],
   "source": [
    "df[\"Symptoms+Description\"] = df.Symptoms.str.cat(df.Description)  "
   ]
  },
  {
   "cell_type": "code",
   "execution_count": null,
   "id": "ce12b053",
   "metadata": {},
   "outputs": [],
   "source": [
    "# df.to_csv(r'.\\chatbot_dataset\\temp_df.csv')\n",
    "#alternative way\n",
    "output_dir = \"chatbot_dataset\"\n",
    "temp_dataset_name=\"temp_df.csv\"\n",
    "if not os.path.exists(output_dir):\n",
    "    os.makedirs(output_dir)\n",
    "\n",
    "temp_file_path = os.path.join(output_dir, temp_dataset_name)\n",
    "df.to_csv(temp_file_path)"
   ]
  },
  {
   "cell_type": "code",
   "execution_count": null,
   "id": "84918ffc",
   "metadata": {},
   "outputs": [],
   "source": [
    "# df1 = pd.read_csv(r\".\\chatbot_dataset\\temp_df.csv\",index_col = [0] )\n",
    "data_dir = 'chatbot_dataset'\n",
    "filename = 'temp_df.csv'\n",
    "file_path = os.path.join(data_dir, filename)\n",
    "df1 = pd.read_csv(file_path,index_col = [0])"
   ]
  },
  {
   "cell_type": "code",
   "execution_count": null,
   "id": "4923c9bc",
   "metadata": {},
   "outputs": [],
   "source": [
    "df1"
   ]
  },
  {
   "cell_type": "code",
   "execution_count": null,
   "id": "2a9a877a",
   "metadata": {},
   "outputs": [],
   "source": [
    "# i think we should use df1 from here onwards\n",
    "\n",
    "X = df[[\"Symptoms+Description\"]]\n",
    "y = df[\"Disease\"]"
   ]
  },
  {
   "cell_type": "code",
   "execution_count": null,
   "id": "6cc16073",
   "metadata": {},
   "outputs": [],
   "source": [
    "# split into train and test\n",
    "\n",
    "from sklearn.model_selection import train_test_split\n",
    "X_train,X_test, y_train, y_test = train_test_split(X,y, train_size = 0.80, random_state= 42)"
   ]
  },
  {
   "cell_type": "code",
   "execution_count": null,
   "id": "ebed200d",
   "metadata": {},
   "outputs": [],
   "source": [
    "print(\"train dataset: \",X_train.shape, y_train.shape)\n",
    "print(\"test dataset: \",X_test.shape, y_test.shape)"
   ]
  },
  {
   "cell_type": "code",
   "execution_count": null,
   "id": "1524feef",
   "metadata": {},
   "outputs": [],
   "source": [
    "from sklearn.feature_extraction.text import TfidfVectorizer\n",
    "vocab = TfidfVectorizer()\n",
    "X_train_trans = vocab.fit_transform(X_train[\"Symptoms+Description\"])\n",
    "X_test_trans = vocab.transform(X_test[\"Symptoms+Description\"])"
   ]
  },
  {
   "cell_type": "code",
   "execution_count": null,
   "id": "53f0b83b",
   "metadata": {},
   "outputs": [],
   "source": [
    "print(len(vocab.vocabulary_))\n",
    "\n",
    "print(type(X_train_trans))\n",
    "\n",
    "print( X_train_trans.shape)"
   ]
  },
  {
   "cell_type": "code",
   "execution_count": null,
   "id": "966c99a9",
   "metadata": {},
   "outputs": [],
   "source": [
    "print(X_train_trans.shape)\n",
    "print(X_test_trans.shape)"
   ]
  },
  {
   "cell_type": "markdown",
   "id": "af622f2d",
   "metadata": {},
   "source": [
    "### LogisticRegression"
   ]
  },
  {
   "cell_type": "code",
   "execution_count": null,
   "id": "5f59f3c6",
   "metadata": {},
   "outputs": [],
   "source": [
    "from sklearn.linear_model import LogisticRegression\n",
    "classifier = LogisticRegression()\n",
    "classifier.fit(X_train_trans, y_train)\n",
    "y_train_pred = classifier.predict(X_train_trans)\n",
    "y_test_pred = classifier.predict(X_test_trans)\n",
    "from sklearn import metrics\n",
    "accuracy_log_train = metrics.accuracy_score(y_train,y_train_pred)\n",
    "accuracy_log_test = metrics.accuracy_score(y_test,y_test_pred)\n",
    "print('Accuracy_train :',accuracy_log_train)\n",
    "print('Accuracy_test :',accuracy_log_test)"
   ]
  },
  {
   "cell_type": "markdown",
   "id": "8b2d773f",
   "metadata": {},
   "source": [
    "### DecisionTreeClassifier"
   ]
  },
  {
   "cell_type": "code",
   "execution_count": null,
   "id": "1fae5617",
   "metadata": {},
   "outputs": [],
   "source": [
    "from sklearn.tree import DecisionTreeClassifier\n",
    "classifier = DecisionTreeClassifier(max_depth= 35)\n",
    "classifier.fit(X_train_trans, y_train)\n",
    "y_train_pred = classifier.predict(X_train_trans)\n",
    "y_test_pred = classifier.predict(X_test_trans)\n",
    "from sklearn import metrics\n",
    "accuracy_DT_train = metrics.accuracy_score(y_train,y_train_pred)\n",
    "accuracy_DT_test = metrics.accuracy_score(y_test,y_test_pred)\n",
    "print('Accuracy_train :',accuracy_DT_train)\n",
    "print('Accuracy_test :',accuracy_DT_test)"
   ]
  },
  {
   "cell_type": "markdown",
   "id": "58f0fffb",
   "metadata": {},
   "source": [
    "### RandomForestClassifier\n"
   ]
  },
  {
   "cell_type": "code",
   "execution_count": null,
   "id": "b62ec7ac",
   "metadata": {},
   "outputs": [],
   "source": [
    "from sklearn.ensemble import RandomForestClassifier\n",
    "classifier = RandomForestClassifier(max_depth=3)\n",
    "classifier.fit(X_train_trans, y_train)\n",
    "y_train_pred = classifier.predict(X_train_trans)\n",
    "y_test_pred = classifier.predict(X_test_trans)\n",
    "from sklearn import metrics\n",
    "accuracy_RFC_train = metrics.accuracy_score(y_train,y_train_pred)\n",
    "accuracy_RFC_test = metrics.accuracy_score(y_test,y_test_pred)\n",
    "print('Accuracy_train :',accuracy_RFC_train)\n",
    "print('Accuracy_test :',accuracy_RFC_test)"
   ]
  },
  {
   "cell_type": "code",
   "execution_count": null,
   "id": "cdb46d3e",
   "metadata": {},
   "outputs": [],
   "source": []
  },
  {
   "cell_type": "code",
   "execution_count": null,
   "id": "fdda9d6c",
   "metadata": {},
   "outputs": [],
   "source": []
  }
 ],
 "metadata": {
  "kernelspec": {
   "display_name": "Python 3 (ipykernel)",
   "language": "python",
   "name": "python3"
  },
  "language_info": {
   "codemirror_mode": {
    "name": "ipython",
    "version": 3
   },
   "file_extension": ".py",
   "mimetype": "text/x-python",
   "name": "python",
   "nbconvert_exporter": "python",
   "pygments_lexer": "ipython3",
   "version": "3.11.3"
  }
 },
 "nbformat": 4,
 "nbformat_minor": 5
}
